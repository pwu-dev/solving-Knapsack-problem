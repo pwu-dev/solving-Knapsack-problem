{
 "cells": [
  {
   "cell_type": "markdown",
   "metadata": {},
   "source": [
    "# TP 2-3 : Branch-and-bound applied to a knapsack problem"
   ]
  },
  {
   "cell_type": "markdown",
   "metadata": {},
   "source": [
    "### Initialisation (à faire une seule fois)"
   ]
  },
  {
   "cell_type": "code",
   "execution_count": null,
   "metadata": {},
   "outputs": [],
   "source": [
    "import Pkg; \n",
    "Pkg.add(\"GraphRecipes\"); Pkg.add(\"Plots\"); \n",
    "using GraphRecipes, Plots #only used to visualize the search tree at the end of the branch-and-bound"
   ]
  },
  {
   "cell_type": "markdown",
   "metadata": {},
   "source": [
    "### Récupération des données"
   ]
  },
  {
   "cell_type": "code",
   "execution_count": 3,
   "metadata": {},
   "outputs": [
    {
     "data": {
      "text/plain": [
       "readKnaptxtInstance (generic function with 1 method)"
      ]
     },
     "metadata": {},
     "output_type": "display_data"
    }
   ],
   "source": [
    "function readKnaptxtInstance(filename)\n",
    "    price=[]\n",
    "    weight=[]\n",
    "    KnapCap=[]\n",
    "    open(filename) do f\n",
    "        for i in 1:3\n",
    "            tok = split(readline(f))\n",
    "            if(tok[1] == \"ListPrices=\")\n",
    "                for i in 2:(length(tok)-1)\n",
    "                    push!(price,parse(Int64, tok[i]))\n",
    "                end\n",
    "            elseif(tok[1] == \"ListWeights=\")\n",
    "                for i in 2:(length(tok)-1)\n",
    "                    push!(weight,parse(Int64, tok[i]))\n",
    "                end\n",
    "            elseif(tok[1] == \"Capacity=\")\n",
    "                push!(KnapCap, parse(Int64, tok[2]))\n",
    "            else\n",
    "                println(\"Unknown read :\", tok)\n",
    "            end \n",
    "        end\n",
    "    end\n",
    "    capacity=KnapCap[1]\n",
    "    return price, weight, capacity\n",
    "end"
   ]
  },
  {
   "cell_type": "markdown",
   "metadata": {},
   "source": [
    "### Tests de sondabilités TA, TO et TR basés sur le modèle linéaire"
   ]
  },
  {
   "cell_type": "code",
   "execution_count": 4,
   "metadata": {},
   "outputs": [
    {
     "data": {
      "text/plain": [
       "TestsSondabilite (generic function with 1 method)"
      ]
     },
     "metadata": {},
     "output_type": "display_data"
    }
   ],
   "source": [
    "function TestsSondabilite(noeud, BestProfit)\n",
    "\n",
    "    TA, TO, TR = false, false, false\n",
    "    # Test d'admissibilité : vérifié si la capacité restante est négative\n",
    "    if(noeud.capacite_restante <= 0)\n",
    "        TA=true\n",
    "        return TA, TO, TR\n",
    "\n",
    "    else \n",
    "        # Test d'optimalité\n",
    "        if(noeud.borne_sup <= BestProfit) \n",
    "            TO=true\n",
    "        end\n",
    "        # Test de résolution 1 : réussit si les variables de décisions sont entières\n",
    "        if(abs(noeud.borne_sup - noeud.borne_inf) <= 10^-5)\n",
    "            TR=true\n",
    "        end \n",
    "    end \n",
    "\n",
    "    return TA, TO, TR\n",
    "\n",
    "end"
   ]
  },
  {
   "cell_type": "markdown",
   "metadata": {},
   "source": [
    "### Procédure de séparation (branching) et stratégie d'exploration permettant de se placer au prochain noeud à traiter"
   ]
  },
  {
   "cell_type": "code",
   "execution_count": 5,
   "metadata": {},
   "outputs": [
    {
     "data": {
      "text/plain": [
       "SeparerNoeud!"
      ]
     },
     "metadata": {},
     "output_type": "display_data"
    }
   ],
   "source": [
    "\"\"\"\n",
    "Fonction pour créer le noeud fils gauche d'un noeud non-sondable \n",
    "Précondition : Le noeud est non-sondable \n",
    "\"\"\"\n",
    "function SeparerNoeud!(listobjs, listvals, nb_var,ratio)\n",
    "\n",
    "    ratio_dispo = zeros(nb_var);\n",
    "\n",
    "    # Vérification des variables de décisions déjà fixées \n",
    "    for indice in 1:nb_var\n",
    "        # Si la variable xi n'est pas encore fixée alors elle est disponible\n",
    "        if(!(indice in listobjs))\n",
    "            ratio_dispo[indice] = ratio[indice]\n",
    "        end\n",
    "    end\n",
    "\n",
    "    ratio_max, indice_max = findmax(ratio_dispo)\n",
    "    \n",
    "    # Création du noeud fils gauche avec xi = 1\n",
    "    push!(listobjs,indice_max)\n",
    "    push!(listvals,1.0) \n",
    "end"
   ]
  },
  {
   "cell_type": "code",
   "execution_count": 6,
   "metadata": {},
   "outputs": [
    {
     "data": {
      "text/plain": [
       "ExplorerAutreNoeud! (generic function with 1 method)"
      ]
     },
     "metadata": {},
     "output_type": "display_data"
    }
   ],
   "source": [
    "\"\"\"\n",
    "Fonction pour explorer un autre noeud lorsque le noeud actuel est sondable\n",
    "Précondition : le noeud actuel est sondable\n",
    "Renvoie : \n",
    "    - True : Si on explore à partir d'un noeud racine sondable\n",
    "             OU Si l'algo a fini de construire l'arbre\n",
    "    - False : Si l'algo a crée un noeud fils droit \n",
    "\n",
    "-----------------------------------------------------------------------------\n",
    "ALGORITHME : \n",
    "\n",
    "Si OnEstPasSurNoeudRacine Alors\n",
    "    OnRetourneAuNoeudParent\n",
    "        \n",
    "    TantQue OnEstRemonteParFilsDroit && OnEstSurNoeudPasRacine\n",
    "        OnRemonte\n",
    "    FinTantQue\n",
    "\n",
    "    Si OnEstRemonteParNoeudFilsGauche Alors \n",
    "        OnCreeLeNoeudFilsDroit\n",
    "        False\n",
    "    Sinon  (On se situe sur le noeud racine => on a fini de construire l'arbre)\n",
    "        True\n",
    "Sinon \n",
    "    True\n",
    "-----------------------------------------------------------------------------\n",
    "\"\"\"\n",
    "\n",
    "function ExplorerAutreNoeud!(listobjs, listvals, listnodes)\n",
    "    #this node is sondable, go back to parent node then right child if possible\n",
    "    \n",
    "    stop=false\n",
    "    # On se situe sur un noeud qui n'est pas le noeud racine (0)\n",
    "    if (length(listobjs)>= 1)\n",
    "        # Retour au noeud parent\n",
    "        obj=pop!(listobjs)\n",
    "        theval=pop!(listvals)\n",
    "        tmp=pop!(listnodes)\n",
    "\n",
    "        #go to right child if possible, otherwise go back to parent\n",
    "        # Sur la branche remontée, la valeur de xi = 0, noeud parent != racine\n",
    "        # Remonte jusqu'au noeud où la branche parent xi = 1 OU noeud racine\n",
    "        while( (theval==0.0) && (length(listobjs)>= 1))\n",
    "            obj=pop!(listobjs)\n",
    "            theval=pop!(listvals)\n",
    "            tmp=pop!(listnodes)\n",
    "        end\n",
    "\n",
    "        # Sur la branche remontée, la valeur de xi = 1 \n",
    "        if theval==1.0\n",
    "            # On crée le noeud fils droit avec xi = 0\n",
    "            push!(listobjs,obj)\n",
    "            push!(listvals,0.0)\n",
    "        # On est remonté par que des branches xi = 0 jusqu'au noeud racine\n",
    "        # = on a fini d'explorer/de construire l'arbre du problème\n",
    "        else\n",
    "            #println(\"\\nFINISHED\")\n",
    "            stop=true\n",
    "        end\n",
    "\n",
    "    # On se situe sur un noeud qui est sur le noeud racine (0)\n",
    "    else\n",
    "        #the root node was sondable\n",
    "        #println(\"\\nFINISHED\")\n",
    "        stop=true\n",
    "    end\n",
    "    return stop \n",
    "end"
   ]
  },
  {
   "cell_type": "markdown",
   "metadata": {},
   "source": [
    "### Calcul de la borne"
   ]
  },
  {
   "cell_type": "code",
   "execution_count": 7,
   "metadata": {},
   "outputs": [
    {
     "data": {
      "text/plain": [
       "CalculBorne (generic function with 1 method)"
      ]
     },
     "metadata": {},
     "output_type": "display_data"
    }
   ],
   "source": [
    "function CalculBorne(listobjs, listvals, capacite_initiale, prix, poids, option)\n",
    "\n",
    "    # Calcul du ratio des objets \n",
    "    ratio = prix ./ poids\n",
    "    # Tri ratio par ordre croissant (pour dépiler dans l'ordre décroissant)\n",
    "    indice_croissant = sortperm(ratio)\n",
    "    ratio_croissant = ratio[indice_croissant]\n",
    "    # Initialisation\n",
    "    borne_inf = 0\n",
    "    borne_sup = 0\n",
    "    capacite_restante = capacite_initiale\n",
    "    k = 0   # indice de parcours\n",
    "\n",
    "    # Calcul de la borne inf\n",
    "    # On recherche les variables de décisions (les indices) déjà fixées \n",
    "    for indice in listobjs\n",
    "        k += 1\n",
    "        capacite_restante -= listvals[k] * poids[indice]\n",
    "        borne_inf += listvals[k]*prix[indice]\n",
    "        # On dépile les variables utilisées/fixées\n",
    "        pop!(indice_croissant)\n",
    "        pop!(ratio_croissant)\n",
    "    end\n",
    "\n",
    "    # Calcul de la borne sup\n",
    "    borne_sup = borne_inf\n",
    "    # Calcul Borne1\n",
    "    if option == 1 && (capacite_restante > 0)\n",
    "        if (ratio_croissant == [])\n",
    "            ratio_max = 0\n",
    "        else\n",
    "            ratio_max = pop!(ratio_croissant)\n",
    "        end     \n",
    "        borne_sup += capacite_restante * ratio_max\n",
    "\n",
    "    # Calcul Borne2\n",
    "    elseif option == 2\n",
    "        capacite = capacite_restante\n",
    "        # Tant qu'on a pas rempli le sac OU qu'il n'y plus d'objet à mettre\n",
    "        while (capacite > 0) && (indice_croissant != [])\n",
    "            indice_dominant = pop!(indice_croissant)\n",
    "            ratio_max = pop!(ratio_croissant)\n",
    "            # On peut mettre l'objet suivant entièrement\n",
    "            if poids[indice_dominant] <= capacite\n",
    "                capacite -= poids[indice_dominant]\n",
    "                borne_sup +=  prix[indice_dominant]\n",
    "            # Sinon on ajoute une fraction de l'objet\n",
    "            else\n",
    "                borne_sup += capacite * ratio_max\n",
    "                capacite = 0\n",
    "            end \n",
    "        end\n",
    "    elseif (option != 0) && (option != 1)\n",
    "        println(\"ERREUR option\");\n",
    "    end\n",
    "\n",
    "\n",
    "    return borne_inf, borne_sup, capacite_restante\n",
    "\n",
    "end"
   ]
  },
  {
   "cell_type": "markdown",
   "metadata": {},
   "source": [
    "### Boucle principale : résoudre une relaxation, appliquer les tests de sondabilité, identifier le prochain noeud, répéter."
   ]
  },
  {
   "cell_type": "code",
   "execution_count": 8,
   "metadata": {},
   "outputs": [
    {
     "data": {
      "text/plain": [
       "MAJ_Solution!"
      ]
     },
     "metadata": {},
     "output_type": "display_data"
    }
   ],
   "source": [
    "mutable struct Noeud\n",
    "    numero::Int\n",
    "    capacite_restante::Int\n",
    "    borne_sup::Float64\n",
    "    borne_inf::Float64\n",
    "end\n",
    "\n",
    "\"\"\"\n",
    "Fonction pour mettre à jour éventuellement une solution réalisable (ou optimale)\n",
    "\"\"\"\n",
    "function MAJ_Solution!(\n",
    "    noeud::Noeud, listobjs::Vector, listvals::Vector, BestProfit,\n",
    "    BestSol::Vector, TO::Bool, TA::Bool)\n",
    "    # Si le TO ou TA est vérifié, alors on ne met pas à jour la meilleure solution\n",
    "    if (TO || TA)\n",
    "        \n",
    "    # Si TO n'est pas vérifié, on regarde si on peut mettre à jour la solution\n",
    "    # On a trouvé une meilleure solution réalisable \n",
    "    elseif (noeud.borne_inf  >= BestProfit)\n",
    "        # On met à jour le maximum des bénéfices \n",
    "        BestProfit = noeud.borne_inf \n",
    "        k = 1\n",
    "        BestSol = zeros(length(BestSol))\n",
    "\n",
    "        # On met à jour la solution x_sol\n",
    "        for indice in listobjs \n",
    "            BestSol[indice] = listvals[k]\n",
    "            k += 1\n",
    "        end\n",
    "    end\n",
    "    \n",
    "    return BestProfit, BestSol\n",
    "end"
   ]
  },
  {
   "cell_type": "code",
   "execution_count": 9,
   "metadata": {},
   "outputs": [
    {
     "data": {
      "text/plain": [
       "main (generic function with 1 method)"
      ]
     },
     "metadata": {},
     "output_type": "display_data"
    }
   ],
   "source": [
    "mutable struct Noeud\n",
    "    numero::Int\n",
    "    capacite_restante::Int\n",
    "    borne_sup::Float64\n",
    "    borne_inf::Float64\n",
    "end\n",
    "\n",
    "# option : choix du calcul de la borne\n",
    "#          option == 1 -> Borne 1\n",
    "#          option == 2 -> Borne 2\n",
    "function main(afficher::Bool,filename::String,option::Int)\n",
    "\n",
    "    ## INITIALISATION DU PROBLEME\n",
    "    prix, poids, capacite_initiale = readKnaptxtInstance(filename)\n",
    "    nb_var = length(prix)\n",
    "\n",
    "    #create the structure to memorize the search tree for visualization at the end\n",
    "    trParentnodes=Int64[] #will store orig node of arc in search tree\n",
    "    trChildnodes=Int64[] #will store destination node of arc in search tree\n",
    "    trNamenodes=[] #will store names of nodes in search tree\n",
    "\n",
    "    #intermediate structure to navigate in the search tree\n",
    "    listobjs=[]\n",
    "    listvals=[]\n",
    "    listnodes=[]\n",
    "\n",
    "    ratio = prix./poids\n",
    "    BestProfit=-1\n",
    "    BestSol=zeros(nb_var)\n",
    "\n",
    "    current_node_number=0\n",
    "    stop = false\n",
    "\n",
    "    ## BOUCLE PRINCIPALE\n",
    "    while(!stop)\n",
    "\n",
    "        if afficher\n",
    "            println(\"\\n******\\n\\nNode number \", current_node_number, \" : \\n---------------\")\n",
    "        end\n",
    "\n",
    "        ## Mise à jour de l'affichage graphique de l'arbre\n",
    "        MAJ_Graphique(current_node_number, listnodes, trNamenodes, trParentnodes, trChildnodes)\n",
    "\n",
    "        ## ETAPE 1 : Calcul des bornes\n",
    "        borne_inf, borne_sup, capacite_restante = CalculBorne(listobjs, listvals, capacite_initiale, prix, poids, option)\n",
    "\n",
    "        ## ETAPE 2  Construction du noeud \n",
    "        noeud = Noeud(current_node_number,capacite_restante,borne_sup,borne_inf)\n",
    "        push!(listnodes, noeud)\n",
    "\n",
    "        ## ETAPE 3 : Réaliser les tests de sondabilités\n",
    "        TA, TO, TR = TestsSondabilite(noeud, BestProfit)\n",
    "        noeud_sondable = TA || TO || TR        \n",
    "\n",
    "        ## ETAPE 4 : Mise à jour éventuelle d'une solution réalisable (ou optimale)\n",
    "        BestProfit, BestSol = MAJ_Solution!(noeud, listobjs, listvals, BestProfit, BestSol, TO,TA)\n",
    "\n",
    "        if afficher\n",
    "            AffichageResultats(BestProfit,BestSol,capacite_restante,borne_sup,borne_inf,TA,TO,TR)\n",
    "        end\n",
    "        \n",
    "        ## ETAPE 5 : Séparation ou Exploration selon la sondabilité\n",
    "        if(!noeud_sondable)\n",
    "            SeparerNoeud!(listobjs, listvals, nb_var,ratio)\n",
    "        else\n",
    "            stop = ExplorerAutreNoeud!(listobjs, listvals, listnodes)\n",
    "        end\n",
    "\n",
    "        ## ETAPE 6 : Répéter la boucle si on n'a pas fini de construire l'arbre\n",
    "        current_node_number = current_node_number + 1\n",
    "    end\n",
    "\n",
    "    if afficher\n",
    "        println(\"\\n******\\nf_max = \", BestProfit, \"\\nx_max = \", BestSol,\n",
    "                \"\\nNb_noeuds = \", length(trNamenodes))\n",
    "    end\n",
    "\n",
    "    return BestProfit, BestSol, trParentnodes, trChildnodes, trNamenodes\n",
    "\n",
    "end "
   ]
  },
  {
   "cell_type": "markdown",
   "metadata": {},
   "source": [
    "### Affichage du résultat final"
   ]
  },
  {
   "cell_type": "code",
   "execution_count": 10,
   "metadata": {},
   "outputs": [
    {
     "data": {
      "text/plain": [
       "AffichageResultats (generic function with 1 method)"
      ]
     },
     "metadata": {},
     "output_type": "display_data"
    }
   ],
   "source": [
    "function AffichageResultats(BestProfit,BestSol,capacite_restante,borne_sup,borne_inf,TA,TO,TR)\n",
    "    println(\"Current optimal value = \", BestProfit, \"\\nCurrent optimal x = \", BestSol)\n",
    "    println(\"Capacité restante : Q = \", capacite_restante)\n",
    "    println(\"Borne sup = \", borne_sup)\n",
    "    println(\"Borne inf = \", borne_inf)\n",
    "    println(\"Test d'admissibilité : TA = \", TA)\n",
    "    println(\"Test d'optimalité : TO = \", TO)\n",
    "    println(\"Test de résolution : TR = \", TR)\n",
    "end "
   ]
  },
  {
   "cell_type": "code",
   "execution_count": 11,
   "metadata": {},
   "outputs": [
    {
     "data": {
      "text/plain": [
       "MAJ_Graphique"
      ]
     },
     "metadata": {},
     "output_type": "display_data"
    }
   ],
   "source": [
    "mutable struct Noeud\n",
    "    numero::Int\n",
    "    capacite_restante::Int\n",
    "    borne_sup::Float64\n",
    "    borne_inf::Float64\n",
    "end\n",
    "\n",
    "\"\"\"\n",
    "Fonction qui réalise la mise à jour de l'affichage graphique de l'arbre\n",
    "\"\"\"\n",
    "function MAJ_Graphique(current_node_number, listnodes, trNamenodes, trParentnodes, trChildnodes)\n",
    "    push!(trNamenodes,current_node_number+1) \n",
    "    if(length(trNamenodes)>=2)\n",
    "        push!(trParentnodes,listnodes[end].numero + 1) # +1 because the 1st node is \"node 0\"\n",
    "        push!(trChildnodes, current_node_number+1) # +1 because the 1st node is \"node 0\"\n",
    "    end\n",
    "end "
   ]
  },
  {
   "cell_type": "code",
   "execution_count": null,
   "metadata": {},
   "outputs": [],
   "source": [
    "using GraphRecipes, Plots #only used to visualize the search tree at the end of the branch-and-bound\n",
    "afficher_calcul = false\n",
    "probleme_teste = \"instancesETU/KNAPnewformat/test.opb.txt\"\n",
    "option = 2\n",
    "\n",
    "BestProfit, Bestsol, trParentnodes, trChildnodes, trNamenodes = main(afficher_calcul,probleme_teste,option)\n"
   ]
  },
  {
   "cell_type": "markdown",
   "metadata": {},
   "source": [
    "### Questions préliminaires : "
   ]
  },
  {
   "cell_type": "markdown",
   "metadata": {},
   "source": [
    "Q1) La règle de séparation de l'exemple choisit une variable dans l'ordre lexicographique de l'indice et divise le problème \n",
    "    en deux sous-problèmes avec xi = 1 et xi = 0\n",
    "\n",
    "Q2) Dans cet exemple, la borne superieure est calculée avec la fonction objective_value(model2)\n",
    "\n",
    "Q3) TA : utilisation de termination_status(model2) pour vérifier si la résolution est faisable ou pas. \n",
    "         Si elle n'est pas faisable le TA est vérifiée\n",
    "    TO : Le test d'optimisalité est vérifié si la borne sup du noeud est inférieure ou égale au bénéfice de la meilleure solution enregistrée.\n",
    "    TR : Le test de résolution est vérifié si la solution est entière\n",
    "\n",
    "Q4) La stratégie d'exploration adoptée ici est une exploration en profondeur avec une priorité au noeud de gauche qui vient d'être\n",
    "    avec xi = 1.\n",
    "    Quand il n'est plus possible de créer un noeud à gauche, il retourne au noeud parent pour créer un noeud droit (xi = 0) \n",
    "    si c'est possible."
   ]
  },
  {
   "cell_type": "markdown",
   "metadata": {},
   "source": [
    "### Questions (Analyse et code)"
   ]
  },
  {
   "cell_type": "markdown",
   "metadata": {},
   "source": [
    "Q1) Calcul borne 1 --> option == 1 // Calcul borne 2 --> option == 2  \n",
    "\n",
    "Q2) OK  \n",
    "\n",
    "Q3)  \n",
    "Règle de séparation --> cf. SeparerNoeud!.jl  \n",
    "     TA,TO,TR --> cf. TestsSondabilite.jl  \n",
    "     Stratégie d'exploration --> cf. ExplorerAutreNoeud!.jl  \n",
    "\n",
    "Q4) Pour la structure de données, nous avons besoin d'une structure de données dynamique puisque l'algorithme du branch and bound implémente de manière itérative de nouveaux noeuds. De même, lors de l'exploration d'un autre noeud, il est nécessaire de remonter au noeud parent pour créer de nouveaux fils. Enfin, pour chaque noeud, on doit calculer la quantité restante et les bornes. C'est pourquoi, nous avons défini un objet composite mutable nommé Noeud avec les attributs citées ci-dessus.  \n",
    "\n",
    "Q5) Pour comparer les performances du Branch-and-Bound avec la borne 1 et la borne 2, nous nous sommes restreints aux jeux de données suivantes :  \n",
    "1. almost_strongly_correlated \n",
    "2. circle \n",
    "3. inverse_strongly_correlated \n",
    "4. multiple_strongly_correlated  \n",
    "\n",
    "En ce qui concerne les données testées, elles ont été importées grâce à la fonction ImporterDonnees.jl. La plus grande quantité de données testée a été limité à 200 variables. Au delà, l'exécution du programme ne terminait pas.  \n",
    "Cela doit probablement s'expliquer par la qualité de notre code. En effet, nos algorithmes ont été codés sans prendre en considération leur complexité.  \n",
    "\n",
    "Malgré tout, on peut tout de même tirer quelques conclusions de nos tests :  \n",
    "1. On obtient les mêmes solutions (f_max, x_sol ?) pour la borne1 et la borne2\n",
    "2. Avec le calcul de borne 2, l'algorithme est toujours plus performant en terme de nombre de noeuds crée. Ceci est cohérent dans la mesure on calcule une borne sup plus précise, donc plus petite que celle avec la borne1. Ainsi on augmente les chances qu'un noeud vérifie le test d'optimalité, et donc le nombre de noeuds crée.\n",
    "3. Cependant, l'amélioration de la performance dépend grandement de la configuration des données. Par exemple, on peut remarquer dans le cas où les données sont fortement inversement correlées, les performances sont presque identiques. "
   ]
  },
  {
   "cell_type": "markdown",
   "metadata": {},
   "source": [
    "### Comparaison performance Borne1 et Borne2"
   ]
  },
  {
   "cell_type": "code",
   "execution_count": 19,
   "metadata": {},
   "outputs": [
    {
     "name": "stdout",
     "output_type": "stream",
     "text": [
      "\n",
      "**** NOM DU FICHIER AVEC BORNE 2 : knapPI_5_50_1000_1_-2096.opb.txt \n",
      "Taille du problème : nb_var = 50\n",
      "f_max = 2095.0\n",
      "Nb_noeuds = 6757\n",
      "\n",
      "**** NOM DU FICHIER AVEC BORNE 2 : knapPI_5_50_10000_1_-21980.opb.txt \n",
      "Taille du problème : nb_var = 50\n",
      "f_max = 21980.0\n",
      "Nb_noeuds = 329\n"
     ]
    },
    {
     "name": "stdout",
     "output_type": "stream",
     "text": [
      "\n",
      "**** NOM DU FICHIER AVEC BORNE 2 : knapPI_5_100_1000_1_-2295.opb.txt \n",
      "Taille du problème : nb_var = 100\n",
      "f_max = 2295.0\n",
      "Nb_noeuds = 2821\n",
      "\n",
      "**** NOM DU FICHIER AVEC BORNE 2 : knapPI_5_100_10000_1_-23965.opb.txt \n",
      "Taille du problème : nb_var = 100\n",
      "f_max = 23965.0\n",
      "Nb_noeuds = 1653\n"
     ]
    },
    {
     "name": "stdout",
     "output_type": "stream",
     "text": [
      "\n",
      "**** NOM DU FICHIER AVEC BORNE 2 : knapPI_5_200_1000_1_-2706.opb.txt \n",
      "Taille du problème : nb_var = 200\n",
      "f_max = 2706.0\n",
      "Nb_noeuds = 2603\n",
      "\n",
      "**** NOM DU FICHIER AVEC BORNE 2 : knapPI_5_200_10000_1_-28310.opb.txt \n",
      "Taille du problème : nb_var = "
     ]
    },
    {
     "name": "stdout",
     "output_type": "stream",
     "text": [
      "200\n",
      "f_max = 28310.0\n",
      "Nb_noeuds = 316425\n"
     ]
    },
    {
     "name": "stdout",
     "output_type": "stream",
     "text": [
      "\n",
      "**** NOM DU FICHIER AVEC BORNE 2 : knapPI_5_500_1000_1_-7241.opb.txt \n",
      "Taille du problème : nb_var = 500\n",
      "f_max = 7240.0\n",
      "Nb_noeuds = 629367\n"
     ]
    }
   ],
   "source": [
    "include(\"src/ImporterDonnees.jl\")\n",
    "almost_strongly_correlated, circle, inverse_strongly_correlated, multiple_strongly_correlated = ImporterDonnees()\n",
    "afficher_calcul = false\n",
    "# Choisir parmi ceux qui sont importés\n",
    "jeu_données = almost_strongly_correlated\n",
    "borne = 2\n",
    "\n",
    "for donnees in jeu_données\n",
    "    # On récupère le nom du fichier des données analysées\n",
    "    _,  filename = rsplit(donnees,\"/\";limit = 2)\n",
    "    if borne == 1\n",
    "        BestProfit, BestSol, trParentnodes, trChildnodes, trNamenodes = main(afficher_calcul,donnees,borne)\n",
    "        println(\"\\n**** NOM DU FICHIER AVEC BORNE 1 : $filename \\nTaille du problème : nb_var = \", \n",
    "        length(BestSol), \"\\nf_max = \", BestProfit,\n",
    "        \"\\nNb_noeuds = \", length(trNamenodes));\n",
    "    elseif borne == 2\n",
    "        BestProfit, BestSol, trParentnodes, trChildnodes, trNamenodes = main(afficher_calcul,donnees,borne)\n",
    "        println(\"\\n**** NOM DU FICHIER AVEC BORNE 2 : $filename \\nTaille du problème : nb_var = \", \n",
    "        length(BestSol), \"\\nf_max = \", BestProfit,\n",
    "        \"\\nNb_noeuds = \", length(trNamenodes));\n",
    "    end\n",
    "end\n"
   ]
  }
 ],
 "metadata": {
  "kernelspec": {
   "display_name": "Julia 1.8.2",
   "language": "julia",
   "name": "julia-1.8"
  },
  "language_info": {
   "file_extension": ".jl",
   "mimetype": "application/julia",
   "name": "julia",
   "version": "1.8.2"
  }
 },
 "nbformat": 4,
 "nbformat_minor": 4
}
