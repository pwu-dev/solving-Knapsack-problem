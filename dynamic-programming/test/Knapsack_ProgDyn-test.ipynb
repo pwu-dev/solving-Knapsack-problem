{
 "cells": [
  {
   "cell_type": "markdown",
   "metadata": {},
   "source": [
    "# TP 4 : Programmation dynamique"
   ]
  },
  {
   "cell_type": "markdown",
   "metadata": {},
   "source": [
    "# Tests des fonctions "
   ]
  },
  {
   "cell_type": "markdown",
   "metadata": {},
   "source": [
    "### tester_creerTabMax.jl"
   ]
  },
  {
   "cell_type": "code",
   "execution_count": 3,
   "metadata": {},
   "outputs": [
    {
     "name": "stdout",
     "output_type": "stream",
     "text": [
      "\u001b[0m\u001b[1mTest Summary: | \u001b[22m\u001b[32m\u001b[1mPass  \u001b[22m\u001b[39m\u001b[36m\u001b[1mTotal  \u001b[22m\u001b[39m\u001b[0m\u001b[1mTime\u001b[22m\n",
      "Test          | \u001b[32m  55  \u001b[39m\u001b[36m   55  \u001b[39m\u001b[0m0.0s\n",
      "-----------------------------------------------------\n",
      "TOUS LES TESTS SONT PASSES !\n"
     ]
    }
   ],
   "source": [
    "using Test\n",
    "include(\"../src/creerTabMax.jl\")\n",
    "include(\"../test/tester_creerTabMax.jl\")\n",
    "include(\"../src/readKnaptxtInstance.jl\")\n",
    "filename_path = \n",
    "tester_creerTabMax(filename_path)\n",
    "println(\"-----------------------------------------------------\");\n",
    "println(\"TOUS LES TESTS SONT PASSES !\");"
   ]
  },
  {
   "cell_type": "markdown",
   "metadata": {},
   "source": [
    "### tester_trouverSolution.jl"
   ]
  },
  {
   "cell_type": "code",
   "execution_count": 33,
   "metadata": {},
   "outputs": [
    {
     "name": "stdout",
     "output_type": "stream",
     "text": [
      "\u001b[0m\u001b[1mTest Summary: | \u001b[22m\u001b[32m\u001b[1mPass  \u001b[22m\u001b[39m\u001b[36m\u001b[1mTotal  \u001b[22m\u001b[39m\u001b[0m\u001b[1mTime\u001b[22m\n",
      "Test          | \u001b[32m   4  \u001b[39m\u001b[36m    4  \u001b[39m\u001b[0m0.0s\n",
      "-----------------------------------------------------\n",
      "TOUS LES TESTS SONT PASSES !\n"
     ]
    }
   ],
   "source": [
    "using Test\n",
    "include(\"../src/creerTabMax.jl\")\n",
    "include(\"../src/trouverSolution.jl\")\n",
    "include(\"../test/tester_trouverSolution.jl\")\n",
    "include(\"../src/readKnaptxtInstance.jl\")\n",
    "filename_path = \n",
    "tester_trouverSolution(filename_path)\n",
    "println(\"-----------------------------------------------------\");\n",
    "println(\"TOUS LES TESTS SONT PASSES !\");"
   ]
  },
  {
   "cell_type": "markdown",
   "metadata": {},
   "source": [
    "### Test main.jl"
   ]
  },
  {
   "cell_type": "code",
   "execution_count": 36,
   "metadata": {},
   "outputs": [
    {
     "name": "stdout",
     "output_type": "stream",
     "text": [
      "f_max = 65.0\n",
      "x_max = [0.0 1.0 0.0 1.0]\n"
     ]
    }
   ],
   "source": [
    "include(\"../src/creerTabMax.jl\")\n",
    "include(\"../src/main.jl\")\n",
    "include(\"../src/trouverSolution.jl\")\n",
    "include(\"../src/readKnaptxtInstance.jl\")\n",
    "filename = \"../instancesETU/KNAPnewformat/test.opb.txt\"\n",
    "f_max, x_max = main(filename)\n",
    "println(\"f_max = \",);\n",
    "println(\"x_max = \",x_max);"
   ]
  },
  {
   "cell_type": "markdown",
   "metadata": {},
   "source": [
    "# Test de l'algo sur différentes instances"
   ]
  },
  {
   "cell_type": "markdown",
   "metadata": {},
   "source": [
    "### Test du main.jl"
   ]
  },
  {
   "cell_type": "code",
   "execution_count": 10,
   "metadata": {},
   "outputs": [],
   "source": []
  },
  {
   "cell_type": "markdown",
   "metadata": {},
   "source": [
    "### Affichage graphique"
   ]
  },
  {
   "cell_type": "code",
   "execution_count": 11,
   "metadata": {},
   "outputs": [],
   "source": []
  },
  {
   "cell_type": "code",
   "execution_count": 12,
   "metadata": {},
   "outputs": [],
   "source": []
  }
 ],
 "metadata": {
  "kernelspec": {
   "display_name": "Julia 1.8.2",
   "language": "julia",
   "name": "julia-1.8"
  },
  "language_info": {
   "file_extension": ".jl",
   "mimetype": "application/julia",
   "name": "julia",
   "version": "1.8.2"
  }
 },
 "nbformat": 4,
 "nbformat_minor": 4
}
