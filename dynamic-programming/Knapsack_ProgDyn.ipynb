{
 "cells": [
  {
   "cell_type": "markdown",
   "metadata": {},
   "source": [
    "# TP 3 : Programmation dynamique"
   ]
  },
  {
   "cell_type": "markdown",
   "metadata": {},
   "source": [
    "### Récupération des données (readKnaptxtInstance.jl)"
   ]
  },
  {
   "cell_type": "code",
   "execution_count": 1,
   "metadata": {},
   "outputs": [
    {
     "data": {
      "text/plain": [
       "readKnaptxtInstance (generic function with 1 method)"
      ]
     },
     "metadata": {},
     "output_type": "display_data"
    }
   ],
   "source": [
    "function readKnaptxtInstance(filename)\n",
    "    price=[]\n",
    "    weight=[]\n",
    "    KnapCap=[]\n",
    "    open(filename) do f\n",
    "        for i in 1:3\n",
    "            tok = split(readline(f))\n",
    "            if(tok[1] == \"ListPrices=\")\n",
    "                for i in 2:(length(tok)-1)\n",
    "                    push!(price,parse(Int64, tok[i]))\n",
    "                end\n",
    "            elseif(tok[1] == \"ListWeights=\")\n",
    "                for i in 2:(length(tok)-1)\n",
    "                    push!(weight,parse(Int64, tok[i]))\n",
    "                end\n",
    "            elseif(tok[1] == \"Capacity=\")\n",
    "                push!(KnapCap, parse(Int64, tok[2]))\n",
    "            else\n",
    "                println(\"Unknown read :\", tok)\n",
    "            end \n",
    "        end\n",
    "    end\n",
    "    capacity=KnapCap[1]\n",
    "    return price, weight, capacity\n",
    "end"
   ]
  },
  {
   "cell_type": "markdown",
   "metadata": {},
   "source": [
    "### Créer le tableau des valeurs maximales (creerTabMax.jl)"
   ]
  },
  {
   "cell_type": "code",
   "execution_count": 2,
   "metadata": {},
   "outputs": [
    {
     "data": {
      "text/plain": [
       "creerTabMax"
      ]
     },
     "metadata": {},
     "output_type": "display_data"
    }
   ],
   "source": [
    "\"\"\"\n",
    "Fonction qui crée le tableau des valeurs maximale des objets que l'on peut\n",
    "transporter en fonction du poids maximal permis et les objets que l'on peut\n",
    "inclure.\n",
    "Paramètres :\n",
    "    - prix -> le prix des objets \n",
    "    - poids -> le poids des objets\n",
    "    - capacite_max -> la capacité max du sac à dos\n",
    "Retourne : \n",
    "    - tab_max -> Le tableau des valeurs maximale selon la relation de récurrence définie\n",
    "\"\"\"\n",
    "function creerTabMax(prix,poids,capacite_sac)\n",
    "    nb_obj = length(prix)\n",
    "    # capacite allant de 0 à 10 et nb_obj peut être nul\n",
    "    tab_max = zeros(nb_obj+1,capacite_sac+1)\n",
    "    # Parcours par ligne, de gauche à droite\n",
    "    # Pas de parcours sur la 1ère colonne et 1ère ligne car = 0\n",
    "    for indice_max in 1:nb_obj\n",
    "        for capacite_max in 1:capacite_sac\n",
    "            # Accès indice du tableau en décalage avec les valeurs des lignes et colonnes\n",
    "            # Le tableau démarre à l'indice 1 et nos valeurs démarrent de 0\n",
    "            i = indice_max + 1\n",
    "            j = capacite_max + 1\n",
    "            # Valeur maximale si on ne prend pas l'objet d'indice_max\n",
    "            pas_prendre_objet = tab_max[i-1,j]\n",
    "            \n",
    "            w_i = poids[indice_max]\n",
    "            # Valeur maximale si on prend l'objet d'indice_max\n",
    "            if w_i <= capacite_max\n",
    "                prendre_objet = prix[indice_max] + tab_max[i-1,j-w_i]\n",
    "            else\n",
    "                prendre_objet = 0\n",
    "            end\n",
    "            # Choix de la valeur maximale\n",
    "            tab_max[i,j] = max(pas_prendre_objet,prendre_objet)\n",
    "        end\n",
    "    end\n",
    "\n",
    "    return tab_max\n",
    "end"
   ]
  },
  {
   "cell_type": "markdown",
   "metadata": {},
   "source": [
    "### Trouver la solution optimale dans le tableau max (trouverSolution.jl)"
   ]
  },
  {
   "cell_type": "code",
   "execution_count": 3,
   "metadata": {},
   "outputs": [
    {
     "data": {
      "text/plain": [
       "trouverSolution"
      ]
     },
     "metadata": {},
     "output_type": "display_data"
    }
   ],
   "source": [
    "\"\"\"\n",
    "Fonction qui trouve la solution du problème d'optimisation à partir de son \n",
    "tableau des valeurs maximales\n",
    "Paramètres :\n",
    "    - tab_max ->\n",
    "Retourne :\n",
    "    - x_max -> la solution du problème d'optimisation\n",
    "\"\"\"\n",
    "function trouverSolution(tab_max,poids)\n",
    "    # Initialisation \n",
    "    nb_obj = size(tab_max,1)-1\n",
    "    x_max = zeros(1,nb_obj)\n",
    "    # Indices de départ à partir de la dernière colonne/ligne\n",
    "    j = size(tab_max,2)\n",
    "    indice = 2:(nb_obj+1)\n",
    "    indice_decroissant = reverse(indice)\n",
    "    for i in indice_decroissant\n",
    "        i_obj = i-1\n",
    "        if tab_max[i,j] == tab_max[i-1,j]\n",
    "            #x_max[i_obj] = 0\n",
    "        else\n",
    "            x_max[i_obj] = 1\n",
    "            j -= poids[i_obj] \n",
    "        end\n",
    "    end\n",
    "    return x_max\n",
    "end"
   ]
  },
  {
   "cell_type": "markdown",
   "metadata": {},
   "source": [
    "### Importer les données (ImporterDonnees.jl)"
   ]
  },
  {
   "cell_type": "code",
   "execution_count": 4,
   "metadata": {},
   "outputs": [
    {
     "data": {
      "text/plain": [
       "importerDonnees (generic function with 1 method)"
      ]
     },
     "metadata": {},
     "output_type": "display_data"
    }
   ],
   "source": [
    "# Nous avons importé 4 types de données et pas plus comme les temps d'exécution peuvent devenir très long \n",
    "# et que nous n'avons pas eu d'explications sur les différences entre les types de données et leur impact\n",
    "# sur les performances de nos algorithmes\n",
    "function importerDonnees()\n",
    "    almost_strongly_correlated = []\n",
    "    circle = []\n",
    "    inverse_strongly_correlated = []\n",
    "    multiple_strongly_correlated = []\n",
    "\n",
    "    # Import données almost_strongly_correlated\n",
    "    push!(almost_strongly_correlated,\n",
    "    \"instancesETU/KNAPnewformat/almost_strongly_correlated/knapPI_5_50_1000_1_-2096.opb.txt\")\n",
    "    push!(almost_strongly_correlated,\n",
    "    \"instancesETU/KNAPnewformat/almost_strongly_correlated/knapPI_5_50_10000_1_-21980.opb.txt\")\n",
    "    push!(almost_strongly_correlated,\n",
    "    \"instancesETU/KNAPnewformat/almost_strongly_correlated/knapPI_5_100_1000_1_-2295.opb.txt\")\n",
    "    push!(almost_strongly_correlated,\n",
    "    \"instancesETU/KNAPnewformat/almost_strongly_correlated/knapPI_5_100_10000_1_-23965.opb.txt\")\n",
    "    push!(almost_strongly_correlated,\n",
    "    \"instancesETU/KNAPnewformat/almost_strongly_correlated/knapPI_5_200_1000_1_-2706.opb.txt\")\n",
    "    # Calcul Borne1 - le programme ne termine pas au bout de 10 min d'exécution\n",
    "    push!(almost_strongly_correlated,\n",
    "    \"instancesETU/KNAPnewformat/almost_strongly_correlated/knapPI_5_200_10000_1_-28310.opb.txt\")\n",
    "#=     push!(almost_strongly_correlated,\n",
    "    \"instancesETU/KNAPnewformat/almost_strongly_correlated/knapPI_5_500_1000_1_-7241.opb.txt\")\n",
    "    push!(almost_strongly_correlated,\n",
    "    \"instancesETU/KNAPnewformat/almost_strongly_correlated/knapPI_5_500_10000_1_-70063.opb.txt\")\n",
    "    push!(almost_strongly_correlated,\n",
    "    \"instancesETU/KNAPnewformat/almost_strongly_correlated/knapPI_5_1000_1000_1_-14202.opb.txt\")\n",
    "    push!(almost_strongly_correlated,\n",
    "    \"instancesETU/KNAPnewformat/almost_strongly_correlated/knapPI_5_1000_10000_1_-146390.opb.txt\") =#\n",
    "\n",
    "    # Import données circle\n",
    "    push!(circle,\n",
    "    \"instancesETU/KNAPnewformat/circle/knapPI_16_20_1000_1_-2291.opb.txt\")\n",
    "    push!(circle,\n",
    "    \"instancesETU/KNAPnewformat/circle/knapPI_16_50_1000_1_-3408.opb.txt\")\n",
    "    push!(circle,\n",
    "    \"instancesETU/KNAPnewformat/circle/knapPI_16_100_1000_1_-4400.opb.txt\")\n",
    "    push!(circle,\n",
    "    \"instancesETU/KNAPnewformat/circle/knapPI_16_200_1000_1_-5370.opb.txt\")\n",
    "\n",
    "    # Import données inverse_strongly_correlated\n",
    "    push!(inverse_strongly_correlated,\n",
    "    \"instancesETU/KNAPnewformat/inverse_strongly_correlated/knapPI_4_50_1000_1_-994.opb.txt\")\n",
    "    push!(inverse_strongly_correlated,\n",
    "    \"instancesETU/KNAPnewformat/inverse_strongly_correlated/knapPI_4_50_10000_1_-9984.opb.txt\")\n",
    "    push!(inverse_strongly_correlated,\n",
    "    \"instancesETU/KNAPnewformat/inverse_strongly_correlated/knapPI_4_100_1000_1_-997.opb.txt\")\n",
    "    push!(inverse_strongly_correlated,\n",
    "    \"instancesETU/KNAPnewformat/inverse_strongly_correlated/knapPI_4_100_10000_1_-9984.opb.txt\")\n",
    "    push!(inverse_strongly_correlated,\n",
    "    \"instancesETU/KNAPnewformat/inverse_strongly_correlated/knapPI_4_200_1000_1_-997.opb.txt\")\n",
    "    push!(inverse_strongly_correlated,\n",
    "    \"instancesETU/KNAPnewformat/inverse_strongly_correlated/knapPI_4_200_10000_1_-10311.opb.txt\")\n",
    "\n",
    "\n",
    "    # Import données multiple_strongly_correlated\n",
    "    push!(multiple_strongly_correlated,\n",
    "    \"instancesETU/KNAPnewformat/multiple_strongly_correlated/knapPI_14_20_1000_1_-1794.opb.txt\")\n",
    "    push!(multiple_strongly_correlated,\n",
    "    \"instancesETU/KNAPnewformat/multiple_strongly_correlated/knapPI_14_50_1000_1_-2586.opb.txt\")\n",
    "    push!(multiple_strongly_correlated,\n",
    "    \"instancesETU/KNAPnewformat/multiple_strongly_correlated/knapPI_14_100_1000_1_-3697.opb.txt\")\n",
    "    push!(multiple_strongly_correlated,\n",
    "    \"instancesETU/KNAPnewformat/multiple_strongly_correlated/knapPI_14_200_1000_1_-5397.opb.txt\")\n",
    "    #push!(multiple_strongly_correlated,\n",
    "    #\"instancesETU/KNAPnewformat/multiple_strongly_correlated/knapPI_14_500_1000_1_-12746.opb.txt\")\n",
    "\n",
    "\n",
    "\n",
    "\n",
    "    return almost_strongly_correlated, circle, inverse_strongly_correlated, multiple_strongly_correlated\n",
    "end"
   ]
  },
  {
   "cell_type": "markdown",
   "metadata": {},
   "source": [
    "### Q1) Programme principal (main.jl)"
   ]
  },
  {
   "cell_type": "code",
   "execution_count": 5,
   "metadata": {},
   "outputs": [
    {
     "data": {
      "text/plain": [
       "main"
      ]
     },
     "metadata": {},
     "output_type": "display_data"
    }
   ],
   "source": [
    "\"\"\"\n",
    "La fonction main résoud le problème de sac à dos \n",
    "Paramètres : \n",
    "    - filename (String) -> le nom du fichier dans lequel récupérer les données\n",
    "Renvoie : \n",
    "    - f_max (Int) -> la valeur de la solution optimale du problème\n",
    "    - x_max (Array{Int}) -> la solution optimale du problème \n",
    "\n",
    "ALGORITHME : \n",
    "    1. Construire le tableau des valeurs maximales en fonction du nombre maximal\n",
    "       d'objet que l'on peut transporter et de la capacite maximal permise\n",
    "    2. Ordre de remplissage du tableau : Ligne par ligne, de gauche à droite \n",
    "       pour pouvoir exploiter la relation de récurrence définie \n",
    "    3. Pour chaque élément du tableau, calculer et stocker la valeur optimale\n",
    "       et la solution optimale du sous-problème \n",
    "    4. Renvoyer la solution optimale du problème = dernière ligne et colonne\n",
    "\n",
    "\"\"\"\n",
    "function main(filename)\n",
    "    # Initialisation du problème\n",
    "    prix, poids, capacite_sac = readKnaptxtInstance(filename)\n",
    "\n",
    "    # Créer le tableau des valeurs maximales \n",
    "    tab_max = creerTabMax(prix,poids,capacite_sac)\n",
    "    f_max = tab_max[end,end]\n",
    "\n",
    "    # Trouver la solution optimale du problème\n",
    "    x_max = trouverSolution(tab_max,poids)\n",
    "\n",
    "    return f_max, x_max\n",
    "end "
   ]
  },
  {
   "cell_type": "markdown",
   "metadata": {},
   "source": [
    "### Q2) Test - adéquation du resultat avec l'instance résolue"
   ]
  },
  {
   "cell_type": "code",
   "execution_count": 9,
   "metadata": {},
   "outputs": [
    {
     "name": "stdout",
     "output_type": "stream",
     "text": [
      "\u001b[0m\u001b[1mTest Summary: | \u001b[22m\u001b[32m\u001b[1mPass  \u001b[22m\u001b[39m\u001b[36m\u001b[1mTotal  \u001b[22m\u001b[39m\u001b[0m\u001b[1mTime\u001b[22m\n",
      "Test          | \u001b[32m   4  \u001b[39m\u001b[36m    4  \u001b[39m\u001b[0m0.0s\n",
      "-----------------------------------------------------\n",
      "TOUS LES TESTS DE trouverSolution.jl SONT PASSES !\n",
      "-----------------------------------------------------\n",
      "\n",
      "\u001b[0m\u001b[1mTest Summary: | \u001b[22m\u001b[32m\u001b[1mPass  \u001b[22m\u001b[39m\u001b[36m\u001b[1mTotal  \u001b[22m\u001b[39m\u001b[0m\u001b[1mTime\u001b[22m\n",
      "Test          | \u001b[32m  55  \u001b[39m\u001b[36m   55  \u001b[39m\u001b[0m0.0s\n",
      "-----------------------------------------------------\n",
      "TOUS LES TESTS DE creerTabMax.jl SONT PASSES !\n",
      "-----------------------------------------------------\n",
      "\n",
      "f_max = 65.0\n",
      "x_max = [0.0 1.0 0.0 1.0]\n"
     ]
    }
   ],
   "source": [
    "using Test\n",
    "include(\"src/creerTabMax.jl\")\n",
    "include(\"src/trouverSolution.jl\")\n",
    "include(\"src/readKnaptxtInstance.jl\")\n",
    "include(\"test/tester_trouverSolution.jl\")\n",
    "include(\"test/tester_creerTabMax.jl\")\n",
    "filename_path = \"instancesETU/KNAPnewformat/test.opb.txt\"\n",
    "\n",
    "# test trouverSolution.jl\n",
    "tester_trouverSolution(filename_path)\n",
    "println(\"-----------------------------------------------------\");\n",
    "println(\"TOUS LES TESTS DE trouverSolution.jl SONT PASSES !\");\n",
    "println(\"-----------------------------------------------------\");\n",
    "\n",
    "# test creerTabMax.jl\n",
    "println();\n",
    "tester_creerTabMax(filename_path)\n",
    "println(\"-----------------------------------------------------\");\n",
    "println(\"TOUS LES TESTS DE creerTabMax.jl SONT PASSES !\");\n",
    "println(\"-----------------------------------------------------\");\n",
    "println();\n",
    "\n",
    "# Test sur la valeur de f_max et x_max\n",
    "f_max, x_max = main(filename_path)\n",
    "println(\"f_max = \", f_max);\n",
    "println(\"x_max = \",x_max);"
   ]
  },
  {
   "cell_type": "markdown",
   "metadata": {},
   "source": [
    "Pour valider notre programme, nous l'avons testé sur l'instance de base du sujet afin de vérifier s'il renvoie la bonne solution.  \n",
    "Comme on peut le voir ci-dessus, on retrouve bien la bonne solution du problème, à savoir f_max = 65 et x_sol = [0 1 0 1].  \n",
    "Ainsi notre programme est validé, on peut désormais le tester sur plusieurs instances. "
   ]
  },
  {
   "cell_type": "markdown",
   "metadata": {},
   "source": [
    "### Q3) Fonctionnement de l'algorithme"
   ]
  },
  {
   "cell_type": "markdown",
   "metadata": {},
   "source": [
    "Notre algorithme se décompose en deux grandes étapes :  \n",
    "- La première étape est de créer le tableau des valeurs/bénéfices maximales des objets que l'on peut transporter en fonction du poids maximal permis et des objets que l'on peut inclure. Le tableau comporte un nombre de lignes égale au nombre d'objet (de variables de décisions) + 1 car on prend également en compte la ligne correspondant à 0 objet et un nombre de colonne égale à la capacité maximale du sac + 1 car on prend en compte aussi le cas où la capacité du sac est vide.  \n",
    "Pour calculer chaque élément du tableau, on utilise la formule de récurrence donnée dans le cours, sauf pour la première ligne et la première colonne puisque la formule de récurrence a besoin d'une initialisation.  \n",
    "Ensuite, le bénéfice maximum du problème est donné par le dernier élément du tableau (dernière ligne et colonne) puisqu'il s'agit du bénéfixe maximum que l'on peut avoir si le poids maximal est égale à la capacité du sac et que l'on peut inclure tous les objets.\n",
    "\n",
    "- La seconde étape consiste à retrouver la solution du bénéfice maximum du problème (les variables de décisions). Pour cela, on va reconstruire le chemin qui a conduit à la solution du problème au sein du tableau des valeurs maximales.  \n",
    "En effet, en partant du bénéfice maximum (dernière ligne et colonne), il suffit de regarder si la valeur est égale à celle de la case d'au dessus.  \n",
    "Si c'est le cas, alors cela signifie que l'objet d'indice actuel n'a pas été pris.  \n",
    "Si ce n'est pas le cas, alors l'objet d'indice actuel a été pris.  \n",
    "On réitère ainsi le raisonnement, en prenant comme nouvelle case de départ, la case d'au dessus si l'objet n'a pas été pris, ou la case d'au dessus à la colonne de la capacité restante du sac dans le cas contraire.  "
   ]
  },
  {
   "cell_type": "markdown",
   "metadata": {},
   "source": [
    "### Q4) Test de comparaison avec branch-and-bound"
   ]
  },
  {
   "cell_type": "code",
   "execution_count": null,
   "metadata": {},
   "outputs": [],
   "source": [
    "include(\"src/importerDonnees.jl\")\n",
    "include(\"src/creerTabMax.jl\")\n",
    "include(\"src/main.jl\")\n",
    "include(\"src/readKnaptxtInstance.jl\")\n",
    "include(\"src/trouverSolution.jl\")\n",
    "\n",
    "almost_strongly_correlated, circle, inverse_strongly_correlated, multiple_strongly_correlated = importerDonnees()\n",
    "# Choisir parmi ceux qui sont importés\n",
    "jeu_données = multiple_strongly_correlated\n",
    "\n",
    "for donnees in jeu_données\n",
    "    # On récupère le nom du fichier des données analysées\n",
    "    _,  filename = rsplit(donnees,\"/\";limit = 2)\n",
    "    f_max, x_max = main(donnees)\n",
    "    println(\"\\n**** NOM DU FICHIER : $filename\");\n",
    "    println(\"Taille du problème : nb_var = \", length(x_max));\n",
    "    println(\"f_max_dyn = \", f_max);\n",
    "end\n"
   ]
  },
  {
   "cell_type": "markdown",
   "metadata": {},
   "source": [
    "#### DONNEES : almost_strongly_correlated "
   ]
  },
  {
   "attachments": {},
   "cell_type": "markdown",
   "metadata": {},
   "source": [
    "<code>DONNEES : almost_strongly_correlated  \n",
    "(temps d'exécution de l'ensemble des instances)   \n",
    "temps_execution_prog_dyn = 0.6s  \n",
    "temps_execution_branch = 31.8s  \n",
    "-> prog_dyn est 50 fois plus rapide que le branch and bound</code>     \n",
    "\n",
    "**** NOM DU FICHIER : knapPI_5_50_1000_1_-2096.opb.txt  \n",
    "Taille du problème : nb_var = 50   \n",
    "f_max_dyn = 2096.0  \n",
    "f_max_branch = 2095.0  \n",
    "\n",
    "**** NOM DU FICHIER : knapPI_5_50_10000_1_-21980.opb.txt  \n",
    "Taille du problème : nb_var = 50  \n",
    "f_max_dyn = 21980.0  \n",
    "f_max_branch = 21980.0  \n",
    "\n",
    "**** NOM DU FICHIER : knapPI_5_100_1000_1_-2295.opb.txt  \n",
    "Taille du problème : nb_var = 100  \n",
    "f_max_dyn = 2295.0  \n",
    "f_max_branch = 2295.0   \n",
    "\n",
    "**** NOM DU FICHIER : knapPI_5_100_10000_1_-23965.opb.txt   \n",
    "Taille du problème : nb_var = 100   \n",
    "f_max_dyn = 23965.0   \n",
    "f_max_branch = 23965.0   \n",
    "\n",
    "**** NOM DU FICHIER : knapPI_5_200_1000_1_-2706.opb.txt   \n",
    "Taille du problème : nb_var = 200   \n",
    "f_max_dyn = 2706.0  \n",
    "f_max_branch = 2706.0  \n",
    "\n",
    "**** NOM DU FICHIER : knapPI_5_200_10000_1_-28310.opb.txt  \n",
    "Taille du problème : nb_var = 200  \n",
    "f_max_dyn = 28310.0  \n",
    "f_max_branch = 28310.0   \n"
   ]
  },
  {
   "cell_type": "markdown",
   "metadata": {},
   "source": [
    "#### DONNEES : circle "
   ]
  },
  {
   "attachments": {},
   "cell_type": "markdown",
   "metadata": {},
   "source": [
    "<code>temps_execution_prog_dyn = 0.6s  \n",
    "temps_execution_branch = 7.5s  \n",
    "-> prog_dyn est 11 fois plus rapide que le branch and bound</code>     \n",
    "\n",
    "**** NOM DU FICHIER : knapPI_16_20_1000_1_-2291.opb.txt  \n",
    "Taille du problème : nb_var = 20  \n",
    "f_max_dyn = 2291.0  \n",
    "f_max_branch = 2239.0  \n",
    "\n",
    "**** NOM DU FICHIER : knapPI_16_50_1000_1_-3408.opb.txt  \n",
    "Taille du problème : nb_var = 50  \n",
    "f_max_dyn = 3408.0  \n",
    "f_max_branch = 3408.0  \n",
    "\n",
    "**** NOM DU FICHIER : knapPI_16_100_1000_1_-4400.opb.txt  \n",
    "Taille du problème : nb_var = 100  \n",
    "f_max_dyn = 4400.0  \n",
    "f_max_branch = 4338.0  \n",
    "\n",
    "**** NOM DU FICHIER : knapPI_16_200_1000_1_-5370.opb.txt  \n",
    "Taille du problème : nb_var = 200  \n",
    "f_max_dyn = 5370.0  \n",
    "f_max_branch = 5370.0  \n",
    "\n"
   ]
  },
  {
   "cell_type": "markdown",
   "metadata": {},
   "source": [
    "#### DONNEES : inverse_strongly_correlated"
   ]
  },
  {
   "attachments": {},
   "cell_type": "markdown",
   "metadata": {},
   "source": [
    "<code>temps_execution_prog_dyn = 0.7s  \n",
    "temps_execution_branch = 4.2 s  \n",
    "-> prog_dyn est 5 fois plus rapide que le branch and bound</code>     \n",
    "\n",
    "**** NOM DU FICHIER : knapPI_4_50_1000_1_-994.opb.txt  \n",
    "Taille du problème : nb_var = 50  \n",
    "f_max_dyn = 994.0  \n",
    "f_max_branch = 992.0  \n",
    "\n",
    "**** NOM DU FICHIER : knapPI_4_50_10000_1_-9984.opb.txt   \n",
    "Taille du problème : nb_var = 50   \n",
    "f_max_dyn = 9984.0   \n",
    "f_max_branch = 9893.0  \n",
    "\n",
    "**** NOM DU FICHIER : knapPI_4_100_1000_1_-997.opb.txt   \n",
    "Taille du problème : nb_var = 100   \n",
    "f_max_dyn = 997.0  \n",
    "f_max_branch = 995.0  \n",
    "\n",
    "**** NOM DU FICHIER : knapPI_4_100_10000_1_-9984.opb.txt  \n",
    "Taille du problème : nb_var = 100  \n",
    "f_max_dyn = 9984.0  \n",
    "f_max_branch = 9943.0  \n",
    "\n",
    "**** NOM DU FICHIER : knapPI_4_200_1000_1_-997.opb.txt  \n",
    "Taille du problème : nb_var = 200  \n",
    "f_max_dyn = 997.0  \n",
    "f_max_branch = 997.0  \n",
    "\n",
    "**** NOM DU FICHIER : knapPI_4_200_10000_1_-10311.opb.txt   \n",
    "Taille du problème : nb_var = 200   \n",
    "f_max_dyn = 10311.0  \n",
    "f_max_branch = 10310.0  \n",
    "\n"
   ]
  },
  {
   "cell_type": "markdown",
   "metadata": {},
   "source": [
    "#### DONNEES : multiple_strongly_correlated"
   ]
  },
  {
   "attachments": {},
   "cell_type": "markdown",
   "metadata": {},
   "source": [
    "<code>temps_execution_prog_dyn = 0.1s   \n",
    "temps_execution_branch = 2.6 s  \n",
    "-> prog_dyn est 26 fois plus rapide que le branch and bound</code>     \n",
    "\n",
    "**** NOM DU FICHIER : knapPI_14_20_1000_1_-1794.opb.txt  \n",
    "Taille du problème : nb_var = 20  \n",
    "f_max_dyn = 1794.0  \n",
    "f_max_branch = 1787.0  \n",
    "\n",
    "**** NOM DU FICHIER : knapPI_14_50_1000_1_-2586.opb.txt  \n",
    "Taille du problème : nb_var = 50  \n",
    "f_max_dyn = 2586.0  \n",
    "f_max_branch = 2586.0  \n",
    "\n",
    "**** NOM DU FICHIER : knapPI_14_100_1000_1_-3697.opb.txt  \n",
    "Taille du problème : nb_var = 100  \n",
    "f_max_dyn = 3697.0  \n",
    "f_max_branch = 3696.0  \n",
    "\n",
    "**** NOM DU FICHIER : knapPI_14_200_1000_1_-5397.opb.txt  \n",
    "Taille du problème : nb_var = 200  \n",
    "f_max_dyn = 5397.0  \n",
    "f_max_branch = 5296.0  \n"
   ]
  },
  {
   "attachments": {},
   "cell_type": "markdown",
   "metadata": {},
   "source": [
    "#### CONCLUSION"
   ]
  },
  {
   "attachments": {},
   "cell_type": "markdown",
   "metadata": {},
   "source": [
    "Pour les 4 types d'instances (almost_strongly_correlated, circle, inverse_strongly_correlated, multiple_strongly_correlated), l'algorithme de programmation dynamique est toujours plus performant que l'algorithme du brand-and-bound.\n",
    "En effet, ce résultat était prévisible puisque la complexité en temps de la programmation dynamique est linéaire tandis que celui du branch-and-bound est exponentielle.  \n",
    "\n",
    "De plus, le coût en mémoire est plus important dans le cas du branch-and-bound puisqu'il s'agit d'un algorithme descendant, donc l'algorithme doit stocker les calculs et les résultats intermédiaires lors de la descente. À l'inverse, la programmation dynamique est ascendante et le seul coût en mémoire est celui des cases mémoires d'un tableau. C'est pourquoi la programmation dynamique est plus performant. Le seul inconvénient de cette méthode est de réussir à trouver la formule de récurrence.  \n",
    "\n",
    "En ce qui concerne les résultats des fonctions objectifs pour le branch-and-bound, on peut observer qu'on n'obtient pas exactement le bon résultat, à une unité près, voire une dizaine près. Par manque de temps, nous n'avons pas essayé de remédier à ce problème sachant que chacune des parties du code a été testé sur les exemples du cours. "
   ]
  },
  {
   "cell_type": "markdown",
   "metadata": {},
   "source": [
    "### Test de performance "
   ]
  },
  {
   "cell_type": "markdown",
   "metadata": {},
   "source": [
    "Dans cette section, nous allons voir jusqu'où notre algorithme de programmation dynamique est capable d'aller en terme d'instances"
   ]
  },
  {
   "cell_type": "code",
   "execution_count": 2,
   "metadata": {},
   "outputs": [
    {
     "name": "stdout",
     "output_type": "stream",
     "text": [
      "\n",
      "**** NOM DU FICHIER : knapPI_4_500_1000_1_-2712.opb.txt\n",
      "Taille du problème : nb_var = 500\n",
      "f_max_dyn = 2712.0\n"
     ]
    },
    {
     "name": "stdout",
     "output_type": "stream",
     "text": [
      "\n",
      "**** NOM DU FICHIER : knapPI_4_500_10000_1_-27309.opb.txt\n",
      "Taille du problème : nb_var = 500\n",
      "f_max_dyn = 27309.0\n"
     ]
    },
    {
     "name": "stdout",
     "output_type": "stream",
     "text": [
      "\n",
      "**** NOM DU FICHIER : knapPI_4_1000_1000_1_-5380.opb.txt\n",
      "Taille du problème : nb_var = 1000\n",
      "f_max_dyn = 5380.0\n"
     ]
    },
    {
     "name": "stdout",
     "output_type": "stream",
     "text": [
      "\n",
      "**** NOM DU FICHIER : knapPI_4_1000_10000_1_-52881.opb.txt\n",
      "Taille du problème : nb_var = 1000\n",
      "f_max_dyn = 52881.0\n"
     ]
    },
    {
     "name": "stdout",
     "output_type": "stream",
     "text": [
      "\n",
      "**** NOM DU FICHIER : knapPI_4_2000_1000_1_-10699.opb.txt\n",
      "Taille du problème : nb_var = 2000\n",
      "f_max_dyn = 10699.0\n"
     ]
    },
    {
     "name": "stdout",
     "output_type": "stream",
     "text": [
      "\n",
      "**** NOM DU FICHIER : knapPI_4_2000_10000_1_-106879.opb.txt\n",
      "Taille du problème : nb_var = 2000\n",
      "f_max_dyn = 106879.0\n"
     ]
    },
    {
     "name": "stdout",
     "output_type": "stream",
     "text": [
      "\n",
      "**** NOM DU FICHIER : knapPI_4_5000_1000_1_-26956.opb.txt\n",
      "Taille du problème : nb_var = 5000\n",
      "f_max_dyn = 26956.0\n"
     ]
    }
   ],
   "source": [
    "include(\"src/importerDonnees2.jl\")\n",
    "include(\"src/creerTabMax.jl\")\n",
    "include(\"src/main.jl\")\n",
    "include(\"src/readKnaptxtInstance.jl\")\n",
    "include(\"src/trouverSolution.jl\")\n",
    "\n",
    "almost_strongly_correlated, circle, inverse_strongly_correlated, multiple_strongly_correlated = importerDonnees2()\n",
    "# Choisir parmi ceux qui sont importés\n",
    "jeu_données = inverse_strongly_correlated\n",
    "\n",
    "for donnees in jeu_données\n",
    "    # On récupère le nom du fichier des données analysées\n",
    "    _,  filename = rsplit(donnees,\"/\";limit = 2)\n",
    "    f_max, x_max = main(donnees)\n",
    "    println(\"\\n**** NOM DU FICHIER : $filename\");\n",
    "    println(\"Taille du problème : nb_var = \", length(x_max));\n",
    "    println(\"f_max_dyn = \", f_max);\n",
    "end\n",
    "\n"
   ]
  },
  {
   "cell_type": "markdown",
   "metadata": {},
   "source": [
    "#### DONNEES : almost_strongly_correlated\n"
   ]
  },
  {
   "attachments": {},
   "cell_type": "markdown",
   "metadata": {},
   "source": [
    "temps d'exécution : 9 min\n",
    "\n",
    "**** NOM DU FICHIER : knapPI_5_200_10000_1_-28310.opb.txt  \n",
    "Taille du problème : nb_var = 200  \n",
    "f_max_dyn = 28310.0    \n",
    "\n",
    " **** NOM DU FICHIER : knapPI_5_500_1000_1_-7241.opb.txt  \n",
    " Taille du problème : nb_var = 500    \n",
    " f_max_dyn = 7241.0  \n",
    "\n",
    "**** NOM DU FICHIER : knapPI_5_500_10000_1_-70063.opb.txt  \n",
    "Taille du problème : nb_var = 500  \n",
    "f_max_dyn = 70063.0  \n",
    "\n",
    "**** NOM DU FICHIER : knapPI_5_1000_1000_1_-14202.opb.txt   \n",
    " Taille du problème : nb_var = 1000     \n",
    " f_max_dyn = 14202.0  \n",
    "  \n",
    "**** NOM DU FICHIER : knapPI_5_1000_10000_1_-146390.opb.txt  \n",
    "Taille du problème : nb_var = 1000  \n",
    "f_max_dyn = 146390.0  \n",
    "\n",
    "**** NOM DU FICHIER : knapPI_5_2000_1000_1_-28124.opb.txt   \n",
    "Taille du problème : nb_var = 2000   \n",
    "f_max_dyn = 28124.0  \n",
    "\n",
    "**** NOM DU FICHIER : knapPI_5_2000_10000_1_-292470.opb.txt  \n",
    "Taille du problème : nb_var = 2000  \n",
    "f_max_dyn = 292470.0  \n",
    "\n",
    "**** NOM DU FICHIER : knapPI_5_5000_1000_1_-71745.opb.txt   \n",
    "Taille du problème : nb_var = 5000   \n",
    "f_max_dyn = 71745.0  \n",
    "\n",
    "**** NOM DU FICHIER : knapPI_5_5000_10000_1_-733679.opb.txt  \n",
    "Taille du problème : nb_var = 5000  \n",
    "f_max_dyn = 733679.0  "
   ]
  },
  {
   "cell_type": "markdown",
   "metadata": {},
   "source": [
    "#### DONNEES : circle\n"
   ]
  },
  {
   "attachments": {},
   "cell_type": "markdown",
   "metadata": {},
   "source": [
    "temps d'exécution : 15 min  \n",
    "\n",
    "**** NOM DU FICHIER : knapPI_16_500_1000_1_-13145.opb.txt  \n",
    "Taille du problème : nb_var = 500  \n",
    "f_max_dyn = 13145.0  \n",
    "\n",
    " **** NOM DU FICHIER : knapPI_16_1000_1000_1_-27147.opb.txt   \n",
    " Taille du problème : nb_var = 1000   \n",
    " f_max_dyn = 27147.0  \n",
    "\n",
    "**** NOM DU FICHIER : knapPI_16_2000_1000_1_-54945.opb.txt  \n",
    "Taille du problème : nb_var = 2000  \n",
    "f_max_dyn = 54945.0  \n",
    "\n",
    " **** NOM DU FICHIER : knapPI_16_5000_1000_1_-138116.opb.txt   \n",
    " Taille du problème : nb_var = 5000   \n",
    " f_max_dyn = 138116.0  \n",
    "\n",
    "**** NOM DU FICHIER : knapPI_16_10000_1000_1_-277046.opb.txt  \n",
    "Taille du problème : nb_var = 10000  \n",
    "f_max_dyn = 277046.0  "
   ]
  },
  {
   "cell_type": "markdown",
   "metadata": {},
   "source": [
    "#### DONNEES : inverse_strongly_correlated\n"
   ]
  },
  {
   "attachments": {},
   "cell_type": "markdown",
   "metadata": {},
   "source": [
    "temps d'exécution : 1 min 54   \n",
    "\n",
    "**** NOM DU FICHIER : knapPI_4_500_1000_1_-2712.opb.txt  \n",
    "Taille du problème : nb_var = 500  \n",
    "f_max_dyn = 2712.0  \n",
    "\n",
    "**** NOM DU FICHIER : knapPI_4_500_10000_1_-27309.opb.txt   \n",
    "Taille du problème : nb_var = 500   \n",
    "f_max_dyn = 27309.0  \n",
    "\n",
    "**** NOM DU FICHIER : knapPI_4_1000_1000_1_-5380.opb.txt  \n",
    "Taille du problème : nb_var = 1000  \n",
    "f_max_dyn = 5380.0  \n",
    "\n",
    " **** NOM DU FICHIER : knapPI_4_1000_10000_1_-52881.opb.txt   \n",
    " Taille du problème : nb_var = 1000   \n",
    " f_max_dyn = 52881.0  \n",
    "\n",
    "**** NOM DU FICHIER : knapPI_4_2000_1000_1_-10699.opb.txt  \n",
    "Taille du problème : nb_var = 2000  \n",
    "f_max_dyn = 10699.0  \n",
    "\n",
    "**** NOM DU FICHIER : knapPI_4_2000_10000_1_-106879.opb.txt   \n",
    "Taille du problème : nb_var = 2000   \n",
    "f_max_dyn = 106879.0  \n",
    "\n",
    "**** NOM DU FICHIER : knapPI_4_5000_1000_1_-26956.opb.txt  \n",
    "Taille du problème : nb_var = 5000  \n",
    "f_max_dyn = 26956.0  "
   ]
  },
  {
   "attachments": {},
   "cell_type": "markdown",
   "metadata": {},
   "source": [
    "#### DONNEES : multiple_strongly_correlated TODO\n"
   ]
  },
  {
   "attachments": {},
   "cell_type": "markdown",
   "metadata": {},
   "source": [
    "temps d'exécution : X min"
   ]
  },
  {
   "attachments": {},
   "cell_type": "markdown",
   "metadata": {},
   "source": [
    "## Bonus :  Algorithme de Bellman-Ford"
   ]
  },
  {
   "attachments": {},
   "cell_type": "markdown",
   "metadata": {},
   "source": [
    "L'algorithme de Bellman-Ford est un algorithme de calcul de chemins les plus courts dans un graphe avec possibilité des poids négatifs sur les arcs.\n",
    "\n",
    "L'algorithme de Bellman-Ford fonctionne en itérant sur chaque arc du graphe plusieurs fois, en relaxant les sommets à chaque itération. Plus précisément, l'algorithme met à jour la distance la plus courte d'un sommet à la source en parcourant tous les arcs sortants du sommet et en choisissant la distance la plus courte parmi celles calculées. Cette opération est répétée jusqu'à ce que la distance la plus courte de chaque sommet soit stable, c'est-à-dire qu'elle ne change plus à chaque itération."
   ]
  },
  {
   "attachments": {},
   "cell_type": "markdown",
   "metadata": {},
   "source": [
    "### Implémentation de l'algorithme :"
   ]
  },
  {
   "attachments": {},
   "cell_type": "markdown",
   "metadata": {},
   "source": [
    "Cette fonction prend en entrée un graphe et un sommet source, et renvoie la distance la plus courte de la source à tous les autres sommets, ainsi que le prédécesseur de chaque sommet dans le plus court chemin.\n",
    "\n",
    "Le graphe est représenté sous la forme d'un dictionnaire où les clés sont les sommets et les valeurs sont des listes de tuples, chaque tuple représentant une arête et contenant le sommet de destination, le poids de l'arête et toute autre information sur l'arête.\n",
    "\n",
    "La fonction commence par initialiser la distance de la source à tous les autres sommets à l'infini et le prédécesseur de chaque sommet à 0 (les sommets sont nommé par des entiers comment de 1 ). Elle définit ensuite la distance du sommet source à 0.\n",
    "\n",
    "Ensuite, la fonction relaxe itérativement les arêtes du graphe. Cela signifie qu'elle vérifie si la distance vers un sommet peut être améliorée en passant par l'un de ses voisins, et si c'est le cas, elle met à jour la distance et le prédécesseur du sommet. Ce processus est répété pour toutes les arêtes du graphe un nombre de fois égal au nombre de sommets moins un.\n",
    "\n",
    "Enfin, la fonction vérifie la présence de cycles de poids négatif dans le graphe en parcourant à nouveau toutes les arêtes et en vérifiant si la distance vers un sommet peut encore être améliorée. Si c'est le cas, alors le graphe contient un cycle de poids négatif et la fonction lance une erreur."
   ]
  },
  {
   "cell_type": "code",
   "execution_count": null,
   "metadata": {},
   "outputs": [],
   "source": [
    "# La fonction arcs retourne une liste de tout les arcs avec leurs poids , la source et la destination\n",
    "function arcs(graph)\n",
    "    L=[]\n",
    "    for (u, v_list) in graph\n",
    "        for (v, w) in v_list\n",
    "            push!(L,(u, v, w))\n",
    "        end\n",
    "    end\n",
    "    return L\n",
    "end"
   ]
  },
  {
   "cell_type": "code",
   "execution_count": null,
   "metadata": {},
   "outputs": [],
   "source": [
    "function bellman_ford(graph, source)\n",
    "    # Initialize the distance from the source to all other vertices as infinity\n",
    "    # and the predecessor of each vertex as null\n",
    "    distance = Dict{Int, Float64}()\n",
    "    predecessor = Dict{Int, Int}()\n",
    "    for v in keys(graph)\n",
    "        distance[v] = Inf\n",
    "        predecessor[v] = 0\n",
    "    end\n",
    "    distance[source] = 0\n",
    "    \n",
    "    # Relax the edges repeatedly\n",
    "    for i in 1:(length(graph) - 1)\n",
    "        for (u, v, w) in arcs(graph)\n",
    "            if distance[v] > distance[u] + w\n",
    "                distance[v] = distance[u] + w\n",
    "                predecessor[v] = u\n",
    "            end\n",
    "        end\n",
    "    end\n",
    "    \n",
    "    # Check for negative-weight cycles\n",
    "    for (u, v, w) in arcs(graph)\n",
    "        if distance[v] > distance[u] + w\n",
    "            throw(ArgumentError(\"Graph contains a negative-weight cycle\"))\n",
    "        end\n",
    "    end\n",
    "    \n",
    "    return distance, predecessor\n",
    "end\n"
   ]
  },
  {
   "cell_type": "code",
   "execution_count": null,
   "metadata": {},
   "outputs": [],
   "source": [
    "using Test\n",
    "\n",
    "# Test 1: Tester l'exemple du graph donnée sur le fascicule du TP\n",
    "graph = Dict(\n",
    "    1 => [(2, 3), (5, 5)],\n",
    "    2 => [(3, 4)],\n",
    "    3 => [(4, 2)],\n",
    "    4 => [(6, 3)],\n",
    "    5 => [(2, -1),(4,9)],\n",
    "    6 => []\n",
    ")\n",
    "\n",
    "@testset \"Test 1\" begin\n",
    "    distance, predecessor = bellman_ford(graph, 1)\n",
    "    @test distance[2] == 3\n",
    "    @test distance[3] == 7\n",
    "    @test distance[4] == 9\n",
    "    @test distance[5] == 5\n",
    "    @test distance[6] == 12     #on trouve bien que la distance de A à F est 12\n",
    "end\n",
    "\n",
    "# Test 2: \n",
    "graph = Dict(\n",
    "    1 => [(2, -1), (3, 4)],\n",
    "    2 => [(3, 3), (4, 2)],\n",
    "    3 => [(1, 2), (4, 5)],\n",
    "    4 => [(3, -3)]\n",
    ")\n",
    "\n",
    "@testset \"Test 2\" begin\n",
    "    distance, predecessor = bellman_ford(graph, 1)\n",
    "    @test distance[2] == -1\n",
    "    @test distance[3] == -2\n",
    "    @test distance[4] == 1\n",
    "end\n",
    "\n",
    "# Test 3: Graphe avec negative-weight cycle\n",
    "graph = Dict(\n",
    "    1 => [(2, 3)],\n",
    "    2 => [(4, 1)],\n",
    "    3 => [(1, 7),(2, -4)],\n",
    "    4 => [(3, 2)]\n",
    ")\n",
    "\n",
    "@testset \"Test 3\" begin\n",
    "    @test_throws ArgumentError bellman_ford(graph, 1)\n",
    "end\n",
    "\n"
   ]
  }
 ],
 "metadata": {
  "kernelspec": {
   "display_name": "Julia 1.8.2",
   "language": "julia",
   "name": "julia-1.8"
  },
  "language_info": {
   "file_extension": ".jl",
   "mimetype": "application/julia",
   "name": "julia",
   "version": "1.8.2"
  }
 },
 "nbformat": 4,
 "nbformat_minor": 4
}
